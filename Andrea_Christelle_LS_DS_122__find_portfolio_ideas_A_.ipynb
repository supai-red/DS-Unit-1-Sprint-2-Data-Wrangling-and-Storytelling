{
  "nbformat": 4,
  "nbformat_minor": 0,
  "metadata": {
    "colab": {
      "name": "Andrea Christelle - LS_DS_122 _find-portfolio-ideas_A/.ipynb",
      "version": "0.3.2",
      "provenance": [],
      "collapsed_sections": [],
      "include_colab_link": true
    },
    "kernelspec": {
      "name": "python3",
      "display_name": "Python 3"
    }
  },
  "cells": [
    {
      "cell_type": "markdown",
      "metadata": {
        "id": "view-in-github",
        "colab_type": "text"
      },
      "source": [
        "<a href=\"https://colab.research.google.com/github/supai-red/DS-Unit-1-Sprint-2-Data-Wrangling-and-Storytelling/blob/master/Andrea_Christelle_LS_DS_122__find_portfolio_ideas_A_.ipynb\" target=\"_parent\"><img src=\"https://colab.research.google.com/assets/colab-badge.svg\" alt=\"Open In Colab\"/></a>"
      ]
    },
    {
      "cell_type": "markdown",
      "metadata": {
        "id": "sumb7jk85P9B",
        "colab_type": "text"
      },
      "source": [
        "\n",
        "# Ideas for data storytelling"
      ]
    },
    {
      "cell_type": "markdown",
      "metadata": {
        "id": "AUc7j2Kg5WW4",
        "colab_type": "text"
      },
      "source": [
        "## You\n",
        "\n",
        "\n",
        "> What do you care about?\n",
        "\n",
        "The way that movement and being in nature affects cognition.\n",
        "\n",
        "> What do you know about?\n",
        "\n",
        "Public lands, environmental ethics, and deliberative dialogue.\n",
        "\n",
        "> What decisions do you face?\n",
        "\n",
        "What (i) legislation and (ii) public attitudes are best for climate change adaptation?"
      ]
    },
    {
      "cell_type": "markdown",
      "metadata": {
        "id": "m7h3csmg6RH3",
        "colab_type": "text"
      },
      "source": [
        "## Seven templates\n",
        "Training Kit (https://learn.lambdaschool.com/ds/module/recedjanlbpqxic2r) explains the seven templates from Priceonomics.\n",
        "\n",
        "Can you apply the templates to your topics? \n",
        "\n",
        "1. Geographic Variation\n",
        "\n",
        "How does living near public land and/or open space affect a person's likelihood to spend time in nature?\n",
        "\n",
        "2. Trend related to the news\n",
        "\n",
        "How does being in nature affect wellbeing (forest bathing)?\n",
        "\n",
        "3. Who does that?\n",
        "\n",
        "Who has annual passes to state and national parks?\n",
        "\n",
        "4. Answering a question people care about\n",
        "\n",
        "Does meditation outdoors once a week affect self reports of happiness and wellbeing?\n",
        "\n",
        "5. Valuable to businesses\n",
        "\n",
        "Will people who have national park passes donate to climate action campaigns?\n",
        "\n",
        "6. What's the most popular?\n",
        "\n",
        "Which parks have the most repeat visitors?\n",
        "\n",
        "7. Cost/Money rankings\n",
        "\n",
        "How much more, on average, do park pass holders donate to climate action campaigns? "
      ]
    },
    {
      "cell_type": "markdown",
      "metadata": {
        "id": "I2CWGwhQ7QX3",
        "colab_type": "text"
      },
      "source": [
        "## Misconceptions\n",
        "What misconceptions do people have about your topic?\n",
        "\n"
      ]
    },
    {
      "cell_type": "markdown",
      "metadata": {
        "id": "JvsbhkJJ7xvy",
        "colab_type": "text"
      },
      "source": [
        "## Examples\n",
        "What data storytelling example inspires you?\n",
        "\n",
        "Could you do a new hypothesis, for the smae question?\n",
        "\n",
        "Could you do a new question, for the same topic?\n",
        "\n",
        "Could you do a new topic, with the same \"style\"?\n",
        "\n"
      ]
    },
    {
      "cell_type": "markdown",
      "metadata": {
        "id": "nvrnTJjH8KBK",
        "colab_type": "text"
      },
      "source": [
        "##Data\n",
        "Where could you search for data about your topic?"
      ]
    },
    {
      "cell_type": "markdown",
      "metadata": {
        "id": "3fU_CVou8Os_",
        "colab_type": "text"
      },
      "source": [
        "#Assignment!\n",
        "Fill out the above templace *twice*, for two different ideas.\n",
        "\n",
        "Then compare and contrast and select one as the idea you're leaning toward working on for your project week."
      ]
    }
  ]
}